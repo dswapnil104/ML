{
  "nbformat": 4,
  "nbformat_minor": 0,
  "metadata": {
    "colab": {
      "name": "Polynomial Regression_Template.ipynb",
      "provenance": [],
      "include_colab_link": true
    },
    "kernelspec": {
      "name": "python3",
      "display_name": "Python 3"
    },
    "language_info": {
      "name": "python"
    }
  },
  "cells": [
    {
      "cell_type": "markdown",
      "metadata": {
        "id": "view-in-github",
        "colab_type": "text"
      },
      "source": [
        "<a href=\"https://colab.research.google.com/github/dswapnil104/ML/blob/main/Polynomial_Regression_Template.ipynb\" target=\"_parent\"><img src=\"https://colab.research.google.com/assets/colab-badge.svg\" alt=\"Open In Colab\"/></a>"
      ]
    },
    {
      "cell_type": "markdown",
      "source": [
        "# **POLYNOMIAL CURVE FITTING**"
      ],
      "metadata": {
        "id": "wSQ4Qy6oY7LA"
      }
    },
    {
      "cell_type": "markdown",
      "source": [
        "**REGRESSION**\n",
        "\n",
        "It consists of mathematical methods that allow data scientists to predict a continuous outcome (y) based on the value of one or more predictor variables (x).\n",
        "\n",
        "**Types of regression:** \n",
        "\n",
        "\n",
        "\n",
        "*   Simple linear regression \n",
        "*   Multiple linear regression\n",
        "*   Polynomial Regression\n",
        "\n",
        "\n",
        "\n"
      ],
      "metadata": {
        "id": "3Exnb7IF9-1U"
      }
    },
    {
      "cell_type": "markdown",
      "source": [
        "**Polynomial Curve Fitting**\n",
        "\n",
        "\n",
        "1.   Data generation and sampling process\n",
        "2.   Formulating a regression problem\n",
        "1.   Polynomial curve fitting\n",
        "2.   Hyperparameters\n",
        "5.   Overfitting \n",
        "\n",
        "\n",
        "\n"
      ],
      "metadata": {
        "id": "IOQDCGdY-ByR"
      }
    },
    {
      "cell_type": "code",
      "source": [
        "# import libraries\n"
      ],
      "metadata": {
        "id": "eza58UYhYxIX"
      },
      "execution_count": null,
      "outputs": []
    },
    {
      "cell_type": "markdown",
      "source": [
        "**Data generation and sampling**\n",
        "\n",
        "\n",
        "\n",
        "* Number of samples(n)\n",
        "* Input values(x)\n",
        "\n",
        "* Data generating function - Sine wave:$$ y = \\sin({2 \\pi} x)  $$\n",
        "\n",
        "* Output values - Noisy Sine wave: $$ t = \\sin({2 \\pi} x) +eta $$"
      ],
      "metadata": {
        "id": "mmMJHOVEZMWj"
      }
    },
    {
      "cell_type": "code",
      "source": [
        "# Number of samples\n"
      ],
      "metadata": {
        "id": "80_WmjEMY2QZ"
      },
      "execution_count": null,
      "outputs": []
    },
    {
      "cell_type": "code",
      "source": [
        "# x values\n"
      ],
      "metadata": {
        "id": "U3eyB_8XZU87"
      },
      "execution_count": null,
      "outputs": []
    },
    {
      "cell_type": "code",
      "source": [
        "# y values\n"
      ],
      "metadata": {
        "id": "09HTLmUqZYCW"
      },
      "execution_count": null,
      "outputs": []
    },
    {
      "cell_type": "code",
      "source": [
        "# Plot Sine wave\n"
      ],
      "metadata": {
        "id": "nO__GVC6Z9vm"
      },
      "execution_count": null,
      "outputs": []
    },
    {
      "cell_type": "code",
      "source": [
        "# t values\n",
        "\n",
        "#eta\n",
        "\n",
        "# t = y + eta\n",
        "\n",
        "# Plot Noisy signal and Sine wave\n"
      ],
      "metadata": {
        "id": "E4nfZAn8Zhk-"
      },
      "execution_count": null,
      "outputs": []
    },
    {
      "cell_type": "code",
      "source": [
        "# Plot Noisy signal with N = 10 sampled points and Sine wave with N = 100 samples"
      ],
      "metadata": {
        "id": "f8LquVzva01g"
      },
      "execution_count": null,
      "outputs": []
    },
    {
      "cell_type": "markdown",
      "source": [
        "**Formulating a regression problem**\n",
        "\n",
        "Regression problem: Given a set of points we need to estimate the underlying function. \n",
        "\n",
        "Simple approach to solve this regression problem is by fitting a polynomial curve \n",
        "\n",
        "Regression function approximation:\n",
        "$$ y(x,w) = w_0 + w_1*x^1 + w_2*x^2+...+w_M*x^M$$\n",
        "\n",
        "\n",
        "Parameters:\n",
        "\n",
        "* x\n",
        "* Coefficients/ Weights (w)\n",
        "* Degree of polynomial (M)"
      ],
      "metadata": {
        "id": "yWnwKo96cLbC"
      }
    },
    {
      "cell_type": "markdown",
      "source": [
        "**Estimate value for the degree of polynomial**"
      ],
      "metadata": {
        "id": "Gz4GGBVjcThN"
      }
    },
    {
      "cell_type": "code",
      "source": [
        "'''\n",
        "Polynomial curve fitting with M=0\n",
        "Input x and t (N=10 sampled points)\n",
        "'''\n",
        "\n"
      ],
      "metadata": {
        "id": "hhsG78AFcG1J"
      },
      "execution_count": null,
      "outputs": []
    },
    {
      "cell_type": "code",
      "source": [
        "'''\n",
        "Polynomial curve fitting with M=1\n",
        "Input x and t (N=10 sampled points)\n",
        "'''"
      ],
      "metadata": {
        "id": "uPzZAMv2cfHn"
      },
      "execution_count": null,
      "outputs": []
    },
    {
      "cell_type": "code",
      "source": [
        "'''\n",
        "Polynomial curve fitting with M=3\n",
        "Input x and t (N=10 sampled points)\n",
        "'''"
      ],
      "metadata": {
        "id": "apLlt0JEcsPg"
      },
      "execution_count": null,
      "outputs": []
    },
    {
      "cell_type": "code",
      "source": [
        "'''\n",
        "Polynomial curve fitting with M=9\n",
        "Input x and t (N=10 sampled points)\n",
        "'''"
      ],
      "metadata": {
        "id": "BNA6Vezyctq6"
      },
      "execution_count": null,
      "outputs": []
    },
    {
      "cell_type": "code",
      "source": [
        "'''\n",
        "Testing with new data point\n",
        "'''\n"
      ],
      "metadata": {
        "id": "tr-QaH0yc42I"
      },
      "execution_count": null,
      "outputs": []
    },
    {
      "cell_type": "markdown",
      "source": [
        "When M=9, the model seems to be the best as the error on the training data is aprroximately equals to zero. But the error on testing data is high. Therefore it is not a approximator of the underlying function and has overfit the training data."
      ],
      "metadata": {
        "id": "HoNoeQ-HdqBC"
      }
    },
    {
      "cell_type": "markdown",
      "source": [
        "**Overfitting**\n",
        "\n",
        "Overfitting is a concept in data science, which occurs when a statistical model fits exactly against its training data. \n",
        "It fits the training data very well but fails to generalize. As the training data itself is noisy, the function gets tuned to this noise data during overfitting.\n",
        "\n",
        "**How to avoid overfitting**\n",
        "\n",
        "\n",
        "\n",
        "*   Increase the number of training points\n",
        "*   Regularization\n",
        "\n"
      ],
      "metadata": {
        "id": "W9Jn-qBVdthT"
      }
    }
  ]
}